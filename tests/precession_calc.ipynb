{
 "cells": [
  {
   "cell_type": "code",
   "execution_count": 1,
   "id": "fa58bec6",
   "metadata": {},
   "outputs": [],
   "source": [
    "import numpy as np"
   ]
  },
  {
   "cell_type": "code",
   "execution_count": 6,
   "id": "fee9521e",
   "metadata": {},
   "outputs": [],
   "source": [
    "G_SI    = 6.67430e-11\n",
    "M_sun   = 1.98847e30\n",
    "R_sun   = 6.957e8\n",
    "AU_m    = 1.495978707e11\n",
    "M_jup   = 1.89813e27\n",
    "DAY_s   = 86400.0\n",
    "RAD2DEG = 180.0/np.pi"
   ]
  },
  {
   "cell_type": "code",
   "execution_count": 10,
   "id": "0723c801",
   "metadata": {},
   "outputs": [],
   "source": [
    "def precession_rates(Ms, Rs, a_Rs, Mp, psi_deg, omega, e=0.0):\n",
    "    M_star = Ms*M_sun\n",
    "    R_star = Rs*R_sun\n",
    "    a_m    = a_Rs*R_star\n",
    "    M_p    = Mp*M_jup\n",
    "    psi_rad = np.deg2rad(psi_deg)\n",
    "    cospsi = np.cos(psi_rad)\n",
    "    n = np.sqrt(G_SI*M_star/(a_m**3))\n",
    "    f = 1 - (2/(2 + omega**2))\n",
    "\n",
    "    Omega_real = omega*np.sqrt(G_SI*M_star/(R_star**3))\n",
    "    J2 = -(2*f/3) + ((R_star**3)*(Omega_real**2)/(3*G_SI*M_star))\n",
    "    \n",
    "    denom_node = (1.0 - e**2)**2\n",
    "    omega_L_rad_s = abs(-1.5*n*J2*((R_star / a_m)**2)*cospsi/denom_node) ###### Ω\n",
    "    C = J2/f\n",
    "    omega_small_L_rad_s = abs(-1.5*n*J2*((R_star / a_m)**2)*(2 - 2.5*np.sin(psi_rad)**2)/denom_node)  ####### ω\n",
    "    denom_spin = (1.0 - e**2)**1.5\n",
    "    omega_ps_rad_s = abs(-(3.0*G_SI*M_p*J2*cospsi)/(2.0*C*Omega_real*(a_m**3)*denom_spin))  ##### spin\n",
    "    omega_L_deg_day  = omega_L_rad_s*RAD2DEG*DAY_s\n",
    "    omega_small_L_deg_day = omega_small_L_rad_s*RAD2DEG*DAY_s\n",
    "    omega_ps_deg_day = omega_ps_rad_s*RAD2DEG*DAY_s\n",
    "    \n",
    "    nodal_period = 2*np.pi*(1/(omega_L_rad_s))\n",
    "    apsidal_period = 2*np.pi*(1/omega_small_L_rad_s)\n",
    "    spin_period = 2*np.pi*(1/(omega_ps_rad_s))\n",
    "    print(omega_L_deg_day, omega_small_L_deg_day, omega_ps_deg_day, \"degrees/day\")\n",
    "    print(\"\\n\", nodal_period/31556926, apsidal_period/31556926, spin_period/31556926, \"yrs\")\n",
    "    return None"
   ]
  },
  {
   "cell_type": "code",
   "execution_count": 11,
   "id": "79c8e353",
   "metadata": {},
   "outputs": [],
   "source": [
    "Ms_list = np.array([2.11412, 1.822, 2.05, 1.795, 1.958, 2.122, 1.65])\n",
    "Rs_list = np.array([2.2484, 1.792, 1.94, 1.6, 2.121, 1.753, 1.765])\n",
    "a_Rs_list = np.array([3.2, 5.97, 5.31, 7.5, 4.258, 7.13, 8.0])\n",
    "Mp_list = np.array([2.6, 2.0, 6.7, 3.3, 3.7, 1.41, 0.7])\n",
    "psi_list = np.array([88.08, 66.61, 98.16, 5.3, 71.81, 100.03, 37.45])\n",
    "omega_list = np.array([0.36245, 0.29484, 0.45977, 0.34525, 0.34102, 0.28378, 0.27714])"
   ]
  },
  {
   "cell_type": "code",
   "execution_count": 12,
   "id": "ba7baf1a",
   "metadata": {},
   "outputs": [
    {
     "name": "stdout",
     "output_type": "stream",
     "text": [
      "[0.00310167 0.00241773 0.00684503 0.00594396 0.00881545 0.00054706\n",
      " 0.00132557] [0.04602825 0.00064557 0.02168383 0.01181164 0.00723989 0.00133233\n",
      " 0.00179601] [0.00041039 0.00072451 0.00151897 0.00208249 0.00248213 0.00012163\n",
      " 0.00021399] degrees/day\n",
      "\n",
      " [ 317.7791409   407.67503694  143.99466742  165.82323399  111.80907523\n",
      " 1801.72505713  743.56311441] [  21.41396481 1526.7837034    45.45541009   83.44714253  136.14115343\n",
      "  739.7910769   548.79718937] [2401.72252771 1360.43054207  648.89127174  473.3018032   397.09697223\n",
      " 8103.77190876 4606.04547694] yrs\n"
     ]
    }
   ],
   "source": [
    "precession_rates(Ms_list, Rs_list, a_Rs_list, Mp_list, psi_list, omega_list)"
   ]
  }
 ],
 "metadata": {
  "kernelspec": {
   "display_name": "base",
   "language": "python",
   "name": "python3"
  },
  "language_info": {
   "codemirror_mode": {
    "name": "ipython",
    "version": 3
   },
   "file_extension": ".py",
   "mimetype": "text/x-python",
   "name": "python",
   "nbconvert_exporter": "python",
   "pygments_lexer": "ipython3",
   "version": "3.13.5"
  }
 },
 "nbformat": 4,
 "nbformat_minor": 5
}
