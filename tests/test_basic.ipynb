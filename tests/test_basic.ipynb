{
 "cells": [
  {
   "cell_type": "code",
   "execution_count": null,
   "id": "e401aaf3",
   "metadata": {},
   "outputs": [],
   "source": [
    "import numpy as np\n",
    "import matplotlib.pyplot as plt\n",
    "from core import grav_dark_transit_model"
   ]
  },
  {
   "cell_type": "code",
   "execution_count": 4,
   "id": "a010b5be",
   "metadata": {},
   "outputs": [],
   "source": [
    "time = np.linspace(-0.2, 0.2, 200)\n",
    "\n",
    "flux = grav_dark_transit_model(t_vals = time, orbital_period = 5.0, st_mass = 1.0, st_mean_radius = 1.0, \n",
    "                                    st_mean_temperature = 0.58, beta = 0.2, lamda = 70, i_s = 50, omega = 0.5, \n",
    "                                    u1 = 0.5, u2 = -0.1, u3 = 0.05, u4 = -0.02, e = 0.0, i_0 = 88, omega_p = 0, t_p = 0, \n",
    "                                    rp_rs = 0.1, obs_wavelength=800e-9, integration_grid_size=45)"
   ]
  },
  {
   "cell_type": "code",
   "execution_count": null,
   "id": "b8ab631e",
   "metadata": {},
   "outputs": [],
   "source": [
    "plt.figure(figsize=(8, 4))\n",
    "plt.plot(time, flux, color='darkblue', linewidth=2)\n",
    "plt.xlabel(\"Time (days)\")\n",
    "plt.ylabel(\"Normalized Flux\")\n",
    "plt.title(\"Transit Light-curve\")\n",
    "plt.grid(True)\n",
    "plt.show()"
   ]
  }
 ],
 "metadata": {
  "kernelspec": {
   "display_name": "base",
   "language": "python",
   "name": "python3"
  },
  "language_info": {
   "codemirror_mode": {
    "name": "ipython",
    "version": 3
   },
   "file_extension": ".py",
   "mimetype": "text/x-python",
   "name": "python",
   "nbconvert_exporter": "python",
   "pygments_lexer": "ipython3",
   "version": "3.13.5"
  }
 },
 "nbformat": 4,
 "nbformat_minor": 5
}
